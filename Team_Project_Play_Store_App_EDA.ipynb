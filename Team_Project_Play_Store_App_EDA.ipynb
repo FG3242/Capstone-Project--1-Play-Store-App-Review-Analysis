{
  "nbformat": 4,
  "nbformat_minor": 0,
  "metadata": {
    "colab": {
      "private_outputs": true,
      "provenance": [],
      "collapsed_sections": [
        "vncDsAP0Gaoa",
        "FJNUwmbgGyua",
        "w6K7xa23Elo4",
        "7hBIi_osiCS2",
        "JlHwYmJAmNHm",
        "35m5QtbWiB9F",
        "PoPl-ycgm1ru",
        "H0kj-8xxnORC",
        "nA9Y7ga8ng1Z",
        "PBTbrJXOngz2",
        "u3PMJOP6ngxN",
        "MSa1f5Uengrz",
        "K5QZ13OEpz2H",
        "lQ7QKXXCp7Bj",
        "448CDAPjqfQr",
        "t6dVpIINYklI",
        "ijmpgYnKYklI",
        "-JiQyfWJYklI",
        "fge-S5ZAYoAp",
        "85gYPyotYoAp",
        "RoGjAbkUYoAp",
        "iky9q4vBYrdO",
        "F6T5p64dYrdO",
        "y-Ehk30pYrdP",
        "QHF8YVU7Yuh3",
        "GwzvFGzlYuh3",
        "gIfDvo9L0UH2"
      ],
      "include_colab_link": true
    },
    "kernelspec": {
      "name": "python3",
      "display_name": "Python 3"
    },
    "language_info": {
      "name": "python"
    }
  },
  "cells": [
    {
      "cell_type": "markdown",
      "metadata": {
        "id": "view-in-github",
        "colab_type": "text"
      },
      "source": [
        "<a href=\"https://colab.research.google.com/github/FG3242/Capstone-Project--1-Play-Store-App-Review-Analysis/blob/main/Team_Project_Play_Store_App_EDA.ipynb\" target=\"_parent\"><img src=\"https://colab.research.google.com/assets/colab-badge.svg\" alt=\"Open In Colab\"/></a>"
      ]
    },
    {
      "cell_type": "markdown",
      "source": [
        "# **Project Name**    - \n",
        "\n"
      ],
      "metadata": {
        "id": "vncDsAP0Gaoa"
      }
    },
    {
      "cell_type": "markdown",
      "source": [
        "##### **Project Type**    - EDA\n",
        "##### **Contribution**    - Team\n",
        "##### **Team Member 1 - Ankur Kumar** \n",
        "##### **Team Member 2 - Pal Bharti**\n",
        "##### **Team Member 3 - Amanjeet Kumar Singh**\n"
      ],
      "metadata": {
        "id": "beRrZCGUAJYm"
      }
    },
    {
      "cell_type": "markdown",
      "source": [
        "# **Project Summary -**"
      ],
      "metadata": {
        "id": "FJNUwmbgGyua"
      }
    },
    {
      "cell_type": "markdown",
      "source": [
        "The Play Store App EDA (Exploratory Data Analysis) project is an in-depth analysis of the Google Play Store app dataset. The primary objective of this project is to gain insights into the various aspects of apps available on the Play Store and understand the factors that contribute to their popularity and success.\n",
        "\n",
        "The project begins with data collection, where a comprehensive dataset containing information about different apps, such as their categories, ratings, reviews, sizes, and download counts, is gathered. This dataset serves as the foundation for the subsequent analysis.\n",
        "\n",
        "During the exploratory data analysis phase, various statistical and visual techniques are employed to understand the distribution, trends, and patterns within the dataset. Key metrics such as the most popular app categories, average ratings, and the relationship between app size and download counts are examined. Moreover, the project aims to uncover any outliers, missing values, or data quality issues that may impact the analysis.\n",
        "\n",
        "Overall, the Play Store App EDA project aims to provide valuable insights into the Play Store app ecosystem. The findings can be utilized by app developers, marketers, and stakeholders to make informed decisions regarding app development, marketing strategies, and monetization."
      ],
      "metadata": {
        "id": "F6v_1wHtG2nS"
      }
    },
    {
      "cell_type": "markdown",
      "source": [
        "# **GitHub Link -**"
      ],
      "metadata": {
        "id": "w6K7xa23Elo4"
      }
    },
    {
      "cell_type": "markdown",
      "source": [
        "Provide your GitHub Link here."
      ],
      "metadata": {
        "id": "h1o69JH3Eqqn"
      }
    },
    {
      "cell_type": "markdown",
      "source": [
        "# **Problem Statement**\n"
      ],
      "metadata": {
        "id": "yQaldy8SH6Dl"
      }
    },
    {
      "cell_type": "markdown",
      "source": [
        "The Play Store App EDA (Exploratory Data Analysis) project addresses the need for comprehensive insights into the Google Play Store app ecosystem. The availability of millions of apps on the Play Store presents app developers, marketers, and stakeholders with numerous challenges when it comes to understanding user preferences, identifying successful app features, and making data-driven decisions.\n",
        "\n",
        "The problem this project aims to solve is the lack of a comprehensive analysis of the Play Store app dataset. While there is abundant data available, there is a need to extract meaningful insights and patterns from it. The project focuses on addressing the following key questions:\n",
        "\n",
        "1. App Categorization:\n",
        "2. App Ratings and Reviews\n",
        "3. App Size and Download Counts\n",
        "4. App Features and Popularity\n",
        "\n",
        "\n",
        "By addressing these questions through exploratory data analysis, this project aims to provide actionable insights that can guide app developers, marketers, and stakeholders in making informed decisions. The analysis will enable them to understand user preferences, identify successful app attributes, and develop effective strategies for app development, marketing, and monetization.\n"
      ],
      "metadata": {
        "id": "DpeJGUA3kjGy"
      }
    },
    {
      "cell_type": "markdown",
      "source": [
        "#### **Define Your Business Objective?**"
      ],
      "metadata": {
        "id": "PH-0ReGfmX4f"
      }
    },
    {
      "cell_type": "markdown",
      "source": [
        "The business objective of the Play Store App EDA (Exploratory Data Analysis) project is to leverage the insights gained from the analysis to drive informed decision-making and strategic planning within the app development and marketing ecosystem. The primary goals of this project are as follows:\n",
        "\n",
        "* App Development Strategy\n",
        "* Marketing and User Acquisition:\n",
        "* Monetization Strategies\n",
        "* Competitive Analysis\n"
      ],
      "metadata": {
        "id": "PhDvGCAqmjP1"
      }
    },
    {
      "cell_type": "markdown",
      "source": [
        "# **General Guidelines** : -  "
      ],
      "metadata": {
        "id": "mDgbUHAGgjLW"
      }
    },
    {
      "cell_type": "markdown",
      "source": [
        "1.   Well-structured, formatted, and commented code is required. \n",
        "2.   Exception Handling, Production Grade Code & Deployment Ready Code will be a plus. Those students will be awarded some additional credits. \n",
        "     \n",
        "     The additional credits will have advantages over other students during Star Student selection.\n",
        "       \n",
        "             [ Note: - Deployment Ready Code is defined as, the whole .ipynb notebook should be executable in one go\n",
        "                       without a single error logged. ]\n",
        "\n",
        "3.   Each and every logic should have proper comments.\n",
        "4. You may add as many number of charts you want. Make Sure for each and every chart the following format should be answered.\n",
        "        \n",
        "\n",
        "```\n",
        "# Chart visualization code\n",
        "```\n",
        "            \n",
        "\n",
        "*   Why did you pick the specific chart?\n",
        "*   What is/are the insight(s) found from the chart?\n",
        "* Will the gained insights help creating a positive business impact? \n",
        "Are there any insights that lead to negative growth? Justify with specific reason.\n",
        "\n",
        "5. You have to create at least 20 logical & meaningful charts having important insights.\n",
        "\n",
        "\n",
        "[ Hints : - Do the Vizualization in  a structured way while following \"UBM\" Rule. \n",
        "\n",
        "U - Univariate Analysis,\n",
        "\n",
        "B - Bivariate Analysis (Numerical - Categorical, Numerical - Numerical, Categorical - Categorical)\n",
        "\n",
        "M - Multivariate Analysis\n",
        " ]\n",
        "\n",
        "\n",
        "\n"
      ],
      "metadata": {
        "id": "ZrxVaUj-hHfC"
      }
    },
    {
      "cell_type": "markdown",
      "source": [
        "# ***Let's Begin !***"
      ],
      "metadata": {
        "id": "O_i_v8NEhb9l"
      }
    },
    {
      "cell_type": "markdown",
      "source": [
        "## ***1. Know Your Data***"
      ],
      "metadata": {
        "id": "HhfV-JJviCcP"
      }
    },
    {
      "cell_type": "markdown",
      "source": [
        "### Import Libraries"
      ],
      "metadata": {
        "id": "Y3lxredqlCYt"
      }
    },
    {
      "cell_type": "code",
      "source": [
        "# Import Libraries\n",
        "\n",
        "import pandas as pd \n",
        "import numpy as np \n",
        "import matplotlib.pyplot as plt\n",
        "import seaborn as sns  \n",
        "import plotly.express as px"
      ],
      "metadata": {
        "id": "M8Vqi-pPk-HR"
      },
      "execution_count": null,
      "outputs": []
    },
    {
      "cell_type": "markdown",
      "source": [
        "### Dataset Loading"
      ],
      "metadata": {
        "id": "3RnN4peoiCZX"
      }
    },
    {
      "cell_type": "code",
      "source": [
        "# Load Dataset\n",
        "from google.colab import drive\n",
        "drive.mount('/content/drive')\n",
        "\n",
        "# Reading the dataset\n",
        "play_store_dataset = pd.read_csv(\"/content/drive/MyDrive/Play Store App Review Analysis project/Play Store Data.csv\")\n",
        "user_review_dataset = pd.read_csv(\"/content/drive/MyDrive/Play Store App Review Analysis project/User Reviews.csv\")\n",
        "\n"
      ],
      "metadata": {
        "id": "4CkvbW_SlZ_R"
      },
      "execution_count": null,
      "outputs": []
    },
    {
      "cell_type": "markdown",
      "source": [
        "### Dataset First View"
      ],
      "metadata": {
        "id": "x71ZqKXriCWQ"
      }
    },
    {
      "cell_type": "code",
      "source": [
        "# Dataset First Look\n",
        "play_store_dataset.head()"
      ],
      "metadata": {
        "id": "LWNFOSvLl09H"
      },
      "execution_count": null,
      "outputs": []
    },
    {
      "cell_type": "code",
      "source": [
        "# Dataset First Look\n",
        "user_review_dataset.head()\n"
      ],
      "metadata": {
        "id": "bcKPQVRdJUV5"
      },
      "execution_count": null,
      "outputs": []
    },
    {
      "cell_type": "markdown",
      "source": [
        "### Dataset Rows & Columns count"
      ],
      "metadata": {
        "id": "7hBIi_osiCS2"
      }
    },
    {
      "cell_type": "code",
      "source": [
        "# Dataset Rows & Columns count\n",
        "play_store_dataset.shape"
      ],
      "metadata": {
        "id": "Kllu7SJgmLij"
      },
      "execution_count": null,
      "outputs": []
    },
    {
      "cell_type": "code",
      "source": [
        "# Dataset Rows & Columns count\n",
        "user_review_dataset.shape"
      ],
      "metadata": {
        "id": "ParqCRXhJb5a"
      },
      "execution_count": null,
      "outputs": []
    },
    {
      "cell_type": "markdown",
      "source": [
        "### Dataset Information"
      ],
      "metadata": {
        "id": "JlHwYmJAmNHm"
      }
    },
    {
      "cell_type": "code",
      "source": [
        "# Dataset Info\n",
        "play_store_dataset.info()"
      ],
      "metadata": {
        "id": "e9hRXRi6meOf"
      },
      "execution_count": null,
      "outputs": []
    },
    {
      "cell_type": "code",
      "source": [
        "user_review_dataset.info()"
      ],
      "metadata": {
        "id": "E_mP6D_lJqU2"
      },
      "execution_count": null,
      "outputs": []
    },
    {
      "cell_type": "markdown",
      "source": [
        "#### Duplicate Values"
      ],
      "metadata": {
        "id": "35m5QtbWiB9F"
      }
    },
    {
      "cell_type": "code",
      "source": [
        "# Dataset Duplicate Value Count\n",
        "play_store_dataset.duplicated().value_counts()"
      ],
      "metadata": {
        "id": "1sLdpKYkmox0"
      },
      "execution_count": null,
      "outputs": []
    },
    {
      "cell_type": "code",
      "source": [
        "# Dataset Duplicate Value Count\n",
        "user_review_dataset.duplicated().value_counts()"
      ],
      "metadata": {
        "id": "pWg3sy9mJ8qb"
      },
      "execution_count": null,
      "outputs": []
    },
    {
      "cell_type": "markdown",
      "source": [
        "#### Missing Values/Null Values"
      ],
      "metadata": {
        "id": "PoPl-ycgm1ru"
      }
    },
    {
      "cell_type": "code",
      "source": [
        "# Missing Values/Null Values Count\n",
        "play_store_dataset.isnull().sum()"
      ],
      "metadata": {
        "id": "GgHWkxvamxVg"
      },
      "execution_count": null,
      "outputs": []
    },
    {
      "cell_type": "code",
      "source": [
        "# Missing Values/Null Values Count\n",
        "user_review_dataset.isnull().sum()"
      ],
      "metadata": {
        "id": "gWSH135uKFUq"
      },
      "execution_count": null,
      "outputs": []
    },
    {
      "cell_type": "code",
      "source": [
        "# Visualizing the missing values\n",
        "\n",
        "# Checking Null Value of play store by plotting Heatmap\n",
        "sns.heatmap(play_store_dataset.isnull(), yticklabels=False ,cbar=False, cmap='viridis')"
      ],
      "metadata": {
        "id": "3q5wnI3om9sJ"
      },
      "execution_count": null,
      "outputs": []
    },
    {
      "cell_type": "code",
      "source": [
        "# Visualizing the missing values\n",
        "\n",
        "# Checking Null Value of play store by plotting Heatmap\n",
        "sns.heatmap(play_store_dataset.isnull(),yticklabels=False ,cbar=False, cmap='viridis')"
      ],
      "metadata": {
        "id": "Wded1TYiNt1f"
      },
      "execution_count": null,
      "outputs": []
    },
    {
      "cell_type": "markdown",
      "source": [
        "### What did you know about your dataset?"
      ],
      "metadata": {
        "id": "H0kj-8xxnORC"
      }
    },
    {
      "cell_type": "markdown",
      "source": [
        "Play Store app review analysis EDA project, the dataset typically consists of information related to user reviews of various apps available on the Play Store. The dataset may include the following key features:\n",
        "\n",
        "* App Information\n",
        "* User Reviews:\n",
        "* App Version\n",
        "* User Information:\n",
        "* App Metadata\n",
        "\n",
        "These are general features that can be found in a Play Store app review dataset, but the specific attributes and structure may vary depending on the source and scope of the dataset\n",
        "\n",
        "When analyzing this dataset, we can explore various aspects such as the distribution of ratings, sentiment analysis of user reviews, trends in review sentiment over time, most commonly mentioned keywords or topics in reviews, and any correlations between app features (such as app size, category) and user reviews.\n",
        "\n",
        " * Additionaly , Play Store dataset has 10841 rows and 13 columns and  User Reviews dataset has 64295 rows and 5 columns.\n",
        "\n",
        "* In play store dataset total 483 duplicate values and in user review dataset total 33616 values.\n"
      ],
      "metadata": {
        "id": "gfoNAAC-nUe_"
      }
    },
    {
      "cell_type": "markdown",
      "source": [
        "## ***2. Understanding Your Variables***"
      ],
      "metadata": {
        "id": "nA9Y7ga8ng1Z"
      }
    },
    {
      "cell_type": "code",
      "source": [
        "# Dataset Columns\n",
        "play_store_dataset.columns"
      ],
      "metadata": {
        "id": "j7xfkqrt5Ag5"
      },
      "execution_count": null,
      "outputs": []
    },
    {
      "cell_type": "code",
      "source": [
        "# Dataset Columns\n",
        "user_review_dataset.columns"
      ],
      "metadata": {
        "id": "cPDaD6-mOgNk"
      },
      "execution_count": null,
      "outputs": []
    },
    {
      "cell_type": "code",
      "source": [
        "# Dataset Describe\n",
        "play_store_dataset.describe(include='all')"
      ],
      "metadata": {
        "id": "DnOaZdaE5Q5t"
      },
      "execution_count": null,
      "outputs": []
    },
    {
      "cell_type": "code",
      "source": [
        "# Dataset Describe\n",
        "play_store_dataset.describe(include='all')"
      ],
      "metadata": {
        "id": "CJfLfaHxOgvn"
      },
      "execution_count": null,
      "outputs": []
    },
    {
      "cell_type": "markdown",
      "source": [
        "### Variables Description "
      ],
      "metadata": {
        "id": "PBTbrJXOngz2"
      }
    },
    {
      "cell_type": "markdown",
      "source": [
        "**Variables Description of Play Store csv**\n",
        "\n",
        "* App name : The name or title of the app.\n",
        "* Category : The category or genre of the app \n",
        "* Rating : The numerical rating given by the user (usually on a scale of 1 to 5 stars).\n",
        "\n",
        "* Reviews : The text content of the user's review.\n",
        "* Size : The size of the app in terms of storage space.\n",
        "* Installs : The approximate number of times the app has been installed\n",
        "* Type : Types of app like ( Free or Paid )\n",
        "* Price : Price of application.\n",
        "* Content Rating :  The price or pricing model of the app \n",
        "\n",
        "* Genres : Play Store apps belong, providing classification based on functionality or content.\n",
        "\n",
        "* Last Updated : Update info when we updated application.\n",
        "* Current Version : Current version of the app available on the Play Store.\n",
        "* Android Version : Android operating system version required to run the app.\n",
        "\n",
        "\n",
        "**Variables Description of User Review csv**\n",
        "\n",
        "* App: The name or title of the app for which the review was provided.\n",
        "\n",
        "* Sentiment: The sentiment label associated with the review\n",
        "\n",
        "* Translated_Review: The translated version of the user's review text.\n",
        "\n",
        "* Sentiment_Polarity: The polarity or sentiment score of the review, indicating the sentiment as positive, negative, or neutral.\n",
        "\n",
        "* Sentiment_Subjectivity: The subjectivity score of the review, representing the extent to which the review is subjective or objective"
      ],
      "metadata": {
        "id": "aJV4KIxSnxay"
      }
    },
    {
      "cell_type": "markdown",
      "source": [
        "### Check Unique Values for each variable."
      ],
      "metadata": {
        "id": "u3PMJOP6ngxN"
      }
    },
    {
      "cell_type": "code",
      "source": [
        "# Check Unique Values for each variable.\n",
        "for i in play_store_dataset.columns.tolist():\n",
        "  print(i,\"is\",play_store_dataset[i].nunique())"
      ],
      "metadata": {
        "id": "zms12Yq5n-jE"
      },
      "execution_count": null,
      "outputs": []
    },
    {
      "cell_type": "code",
      "source": [
        "# Check Unique Values for each variable.\n",
        "for i in user_review_dataset.columns.tolist():\n",
        "  print(i,\"is\",user_review_dataset[i].nunique())"
      ],
      "metadata": {
        "id": "fl1lehlWPwbR"
      },
      "execution_count": null,
      "outputs": []
    },
    {
      "cell_type": "markdown",
      "source": [
        "## 3. ***Data Wrangling***"
      ],
      "metadata": {
        "id": "dauF4eBmngu3"
      }
    },
    {
      "cell_type": "markdown",
      "source": [
        "### Data Wrangling Code"
      ],
      "metadata": {
        "id": "bKJF3rekwFvQ"
      }
    },
    {
      "cell_type": "code",
      "source": [
        "# Write your code to make your dataset analysis ready.\n",
        "play_store = play_store_dataset.copy()\n",
        "user_review = user_review_dataset.copy()\n"
      ],
      "metadata": {
        "id": "wk-9a2fpoLcV"
      },
      "execution_count": null,
      "outputs": []
    },
    {
      "cell_type": "code",
      "source": [
        "# Fill missing values (Play store dataset)\n",
        "\n",
        "play_store['Rating'].fillna(play_store['Rating'].mean(),inplace = True)\n",
        "play_store['Rating'].isnull().sum()"
      ],
      "metadata": {
        "id": "CKYbhpkBQnE-"
      },
      "execution_count": null,
      "outputs": []
    },
    {
      "cell_type": "code",
      "source": [
        "# Fill missing values (User Revview dataset)\n",
        "\n",
        "user_review = user_review[~user_review['Sentiment'].isnull()]\n",
        "user_review.dropna(inplace = True)\n",
        "user_review.isnull().sum()"
      ],
      "metadata": {
        "id": "QrXDafugQqZE"
      },
      "execution_count": null,
      "outputs": []
    },
    {
      "cell_type": "code",
      "source": [
        "# Drop Null values (Play store dataset)\n",
        "\n",
        "play_store.drop_duplicates(inplace = True)\n",
        "play_store.drop_duplicates(subset='App',inplace = True)\n",
        "play_store.duplicated().value_counts()"
      ],
      "metadata": {
        "id": "9J4ZmoHUQ26G"
      },
      "execution_count": null,
      "outputs": []
    },
    {
      "cell_type": "code",
      "source": [
        "# Drop Null values (User Revview dataset)\n",
        "\n",
        "\n",
        "user_review.drop_duplicates(inplace = True)\n",
        "user_review.drop_duplicates(subset='App',inplace = True)\n",
        "user_review.duplicated().value_counts()"
      ],
      "metadata": {
        "id": "s2fXyCeDQ7By"
      },
      "execution_count": null,
      "outputs": []
    },
    {
      "cell_type": "code",
      "source": [
        "# Drop all null values \n",
        "\n",
        "play_store.dropna(inplace = True)"
      ],
      "metadata": {
        "id": "q5OQfId0RI2D"
      },
      "execution_count": null,
      "outputs": []
    },
    {
      "cell_type": "code",
      "source": [
        "# Drop all null values \n",
        "user_review.dropna(inplace = True)\n"
      ],
      "metadata": {
        "id": "PhcKTOa_RIjr"
      },
      "execution_count": null,
      "outputs": []
    },
    {
      "cell_type": "markdown",
      "source": [
        "**1. Identify the top categories with the highest number of apps**"
      ],
      "metadata": {
        "id": "CSVTtnMUReR9"
      }
    },
    {
      "cell_type": "code",
      "source": [
        "# 1. Identify the top categories with the highest number of apps\n",
        "top_categories = play_store['Category'].value_counts().head(5)\n",
        "print(\"Top Categories:\")\n",
        "print(top_categories)"
      ],
      "metadata": {
        "id": "QfA-Kig9RWPR"
      },
      "execution_count": null,
      "outputs": []
    },
    {
      "cell_type": "markdown",
      "source": [
        "**2. Calculate the sentiment distribution in user reviews**"
      ],
      "metadata": {
        "id": "1yuX9psRRwra"
      }
    },
    {
      "cell_type": "code",
      "source": [
        "# 2. Calculate the sentiment distribution in user reviews\n",
        "sentiment_distribution = user_review['Sentiment'].value_counts()\n",
        "print(\"Sentiment Distribution:\")\n",
        "print(sentiment_distribution)"
      ],
      "metadata": {
        "id": "OO_rp7HgRsTk"
      },
      "execution_count": null,
      "outputs": []
    },
    {
      "cell_type": "markdown",
      "source": [
        "**3. Calculate the average sentiment polarity for each app**"
      ],
      "metadata": {
        "id": "Rs3AhnrnSN7y"
      }
    },
    {
      "cell_type": "code",
      "source": [
        "# 3. Calculate the average sentiment polarity for each app\n",
        "average_polarity = user_review_dataset.groupby('App')['Sentiment_Polarity'].mean()\n",
        "print(\"Average Sentiment Polarity by App:\")\n",
        "print(average_polarity)\n"
      ],
      "metadata": {
        "id": "QPAV_rc0RsHh"
      },
      "execution_count": null,
      "outputs": []
    },
    {
      "cell_type": "markdown",
      "source": [
        "**4. Identify apps with the most positive sentiment polarity**"
      ],
      "metadata": {
        "id": "-hIqBk24SWes"
      }
    },
    {
      "cell_type": "code",
      "source": [
        "# 4. Identify apps with the most positive sentiment polarity\n",
        "top_positive_apps = average_polarity.nlargest(5)\n",
        "print(\"Top Apps with Positive Sentiment Polarity:\")\n",
        "print(top_positive_apps)"
      ],
      "metadata": {
        "id": "2a-xYQfiRrqj"
      },
      "execution_count": null,
      "outputs": []
    },
    {
      "cell_type": "markdown",
      "source": [
        "**5. Analyze the relationship between app ratings and sentiment subjectivity**"
      ],
      "metadata": {
        "id": "h0RTThCnS5W-"
      }
    },
    {
      "cell_type": "code",
      "source": [
        "# 5. Analyze the relationship between app ratings and sentiment subjectivity\n",
        "ratings_subjectivity = pd.merge(play_store[['App', 'Rating']], user_review[['App', 'Sentiment_Subjectivity']], on='App')\n",
        "correlation = ratings_subjectivity['Rating'].corr(ratings_subjectivity['Sentiment_Subjectivity'])\n",
        "print(\"Correlation between App Ratings and Sentiment Subjectivity:\", correlation)"
      ],
      "metadata": {
        "id": "969VGjuSSmwM"
      },
      "execution_count": null,
      "outputs": []
    },
    {
      "cell_type": "markdown",
      "source": [
        "**6. Find the % distribution of app types ( Free or Paid)**"
      ],
      "metadata": {
        "id": "IirSfbZ4Twxl"
      }
    },
    {
      "cell_type": "code",
      "source": [
        "# 6. Find the % distribution of app types ( Free or Paid)\n",
        "\n",
        "categorydf = play_store.groupby(['Type'])['Type'].count()\n",
        "\n",
        "total_apps = categorydf.sum()\n",
        "free_apps = categorydf['Free']\n",
        "paid_apps = categorydf['Paid']\n",
        "\n",
        "per_free = (free_apps / total_apps) * 100\n",
        "per_paid = (paid_apps / total_apps) * 100\n",
        "\n",
        "print( per_free ,\"% Free apps\")\n",
        "print( per_paid, \"% Paid apps\")"
      ],
      "metadata": {
        "id": "zZ74L2uITPIe"
      },
      "execution_count": null,
      "outputs": []
    },
    {
      "cell_type": "markdown",
      "source": [
        "**7. The top 10 applications based on ratings**"
      ],
      "metadata": {
        "id": "dLng5ItbT-Au"
      }
    },
    {
      "cell_type": "code",
      "source": [
        "# The top 10 applications based on ratings\n",
        "\n",
        "best_reviewed_apps = play_store.sort_values(by='Rating', ascending=False)\n",
        "\n",
        "print(\"Top 10 highest rated applications are:\")\n",
        "for app_name in best_reviewed_apps['App'].head(10):\n",
        "    print(app_name)"
      ],
      "metadata": {
        "id": "79IgHZapTOev"
      },
      "execution_count": null,
      "outputs": []
    },
    {
      "cell_type": "markdown",
      "source": [
        "**8. top 5 most installed Free Applications**"
      ],
      "metadata": {
        "id": "DVsqdW7eUdkY"
      }
    },
    {
      "cell_type": "code",
      "source": [
        "# 8. top 5 most installed Free Applications\n",
        "\n",
        "installed_free_app = play_store[play_store['Type'] == 'Free']\n",
        "\n",
        "print(\"Top 5 most installed free applications are:\")\n",
        "for app_name in installed_free_app.sort_values(by='Installs', ascending=False).head(5)['App']:\n",
        "    print(app_name)\n"
      ],
      "metadata": {
        "id": "tTLlbCH9UZ3K"
      },
      "execution_count": null,
      "outputs": []
    },
    {
      "cell_type": "markdown",
      "source": [
        "**9. the top 5 most downloaded applications that are paid**"
      ],
      "metadata": {
        "id": "Jew47stbVF9K"
      }
    },
    {
      "cell_type": "code",
      "source": [
        "# 9. the top 5 most downloaded applications that are paid\n",
        "\n",
        "most_downloaded_app = play_store[play_store['Type'] == 'Paid']\n",
        "\n",
        "print(\"Top 5 most installed paid applications are:\")\n",
        "for app_name in most_downloaded_app.sort_values(by='Installs', ascending=False).head(5)['App']:\n",
        "    print(app_name)"
      ],
      "metadata": {
        "id": "t601U8HAVGTN"
      },
      "execution_count": null,
      "outputs": []
    },
    {
      "cell_type": "markdown",
      "source": [
        "**10. What is the total number of installs for each category in the Google Play Store**"
      ],
      "metadata": {
        "id": "yL7UjOdFmiAC"
      }
    },
    {
      "cell_type": "code",
      "source": [
        "# 10. What is the total number of installs for each category in the Google Play Store\n",
        "category_installs = play_store.groupby('Category')['Installs'].sum().reset_index()\n",
        "category_installs"
      ],
      "metadata": {
        "id": "dopSfdEKl48j"
      },
      "execution_count": null,
      "outputs": []
    },
    {
      "cell_type": "markdown",
      "source": [
        "**11. Distribution of App Updates Over the Years**"
      ],
      "metadata": {
        "id": "6ItU-nuWoYFX"
      }
    },
    {
      "cell_type": "code",
      "source": [
        "# 11. Distribution of App Updates Over the Years\n",
        "play_store['Last Updated'] = pd.to_datetime(play_store['Last Updated'])\n",
        "play_store['Update Year'] = play_store['Last Updated'].dt.year\n",
        "update_counts = play_store['Update Year'].value_counts().sort_index()\n",
        "update_counts"
      ],
      "metadata": {
        "id": "m7KvTJGIoSQq"
      },
      "execution_count": null,
      "outputs": []
    },
    {
      "cell_type": "markdown",
      "source": [
        "### What all manipulations have you done and insights you found?"
      ],
      "metadata": {
        "id": "MSa1f5Uengrz"
      }
    },
    {
      "cell_type": "markdown",
      "source": [
        "**The main data manipulations performed and the insights found:**\n",
        "\n",
        "* Missing Value Handling: Filled missing values in the 'Rating' column of the Play store dataset and removed rows with missing values in the 'Sentiment' column of the User Review dataset.\n",
        "\n",
        "* Data Cleaning: Dropped duplicate rows and removed remaining rows with null values in both datasets.\n",
        "\n",
        "* Top Categories: Identified the top 5 categories with the highest number of apps in the Play store dataset.\n",
        "\n",
        "* Sentiment Distribution: Calculated the distribution of sentiments (positive, negative, neutral) in the User Review dataset.\n",
        "\n",
        "* Average Sentiment Polarity: Calculated the average sentiment polarity for each app in the User Review dataset.\n",
        "\n",
        "* Top Apps with Positive Sentiment: Identified the top 5 apps with the most positive sentiment polarity.\n",
        "\n",
        "* Correlation: Analyzed the relationship between app ratings and sentiment subjectivity, finding the correlation between the two.\n",
        "\n",
        "* App Type Distribution: Determined the percentage distribution of free and paid apps in the Play store dataset.\n",
        "\n",
        "* Top Rated Apps: Identified the top 10 highest-rated applications based on ratings.\n",
        "\n",
        "* Most Installed Free Applications: Listed the top 5 most installed free applications.\n",
        "\n",
        "* Most Installed Paid Applications: Listed the top 5 most installed paid applications."
      ],
      "metadata": {
        "id": "LbyXE7I1olp8"
      }
    },
    {
      "cell_type": "markdown",
      "source": [
        "## ***4. Data Vizualization, Storytelling & Experimenting with charts : Understand the relationships between variables***"
      ],
      "metadata": {
        "id": "GF8Ens_Soomf"
      }
    },
    {
      "cell_type": "markdown",
      "source": [
        "#### Chart - 1  The Bar Chart "
      ],
      "metadata": {
        "id": "0wOQAZs5pc--"
      }
    },
    {
      "cell_type": "code",
      "source": [
        "# Chart - 1 visualization code\n",
        "data = {\n",
        "    'Category': top_categories.index,\n",
        "    'Number of Apps': top_categories.values,\n",
        "    'Color': ['#FFA07A', '#FFC0CB', '#7B68EE', '#00CED1', '#FFD700']\n",
        "}\n",
        "\n",
        "fig = px.bar(data, x='Category', y='Number of Apps', color='Color')\n",
        "\n",
        "fig.update_layout(title='Top Categories', xaxis=dict(title='Category'), yaxis=dict(title='Number of Apps'))\n",
        "fig.show(renderer=\"colab\")"
      ],
      "metadata": {
        "id": "7v_ESjsspbW7"
      },
      "execution_count": null,
      "outputs": []
    },
    {
      "cell_type": "markdown",
      "source": [
        "##### 1. Why did you pick the specific chart?"
      ],
      "metadata": {
        "id": "K5QZ13OEpz2H"
      }
    },
    {
      "cell_type": "markdown",
      "source": [
        "**The bar chart** allows us to compare the number of apps in different categories easily. The length of each bar represents the number of apps in a specific category, making it intuitive to identify the top categories with the highest number of apps."
      ],
      "metadata": {
        "id": "XESiWehPqBRc"
      }
    },
    {
      "cell_type": "markdown",
      "source": [
        "##### 2. What is/are the insight(s) found from the chart?"
      ],
      "metadata": {
        "id": "lQ7QKXXCp7Bj"
      }
    },
    {
      "cell_type": "markdown",
      "source": [
        "1. The \"Family\" category has the highest number of apps, indicating that it is the most prevalent category in the dataset.\n",
        "2. The \"Game\" category is the second highest, followed by \"Tools,\" \"Medical,\" and \"Business.\"\n",
        "3. These insights provide an understanding of the distribution of app categories and can inform decision-making related to app development, marketing, and investment in specific categories."
      ],
      "metadata": {
        "id": "C_j1G7yiqdRP"
      }
    },
    {
      "cell_type": "markdown",
      "source": [
        "##### 3. Will the gained insights help creating a positive business impact? \n",
        "Are there any insights that lead to negative growth? Justify with specific reason."
      ],
      "metadata": {
        "id": "448CDAPjqfQr"
      }
    },
    {
      "cell_type": "markdown",
      "source": [
        "**The gained insights** can help create a positive business impact. By understanding the top categories with the highest number of apps, businesses can make informed decisions related to app development, marketing strategies, and investment. They can focus their efforts on popular categories like \"Family\" and \"Games\" to target a larger user base and potentially increase their app downloads and revenue.\n",
        "\n",
        "**Regarding negative growth,** the insights themselves do not directly indicate any negative impact. However, if the analysis reveals a high concentration of apps in specific categories, it may lead to increased competition and saturation within those categories. This intense competition can make it challenging for new or existing apps to stand out and gain significant market share, potentially resulting in negative growth for individual apps within those crowded categories."
      ],
      "metadata": {
        "id": "3cspy4FjqxJW"
      }
    },
    {
      "cell_type": "markdown",
      "source": [
        "#### Chart - 2 Donut Chart"
      ],
      "metadata": {
        "id": "KSlN3yHqYklG"
      }
    },
    {
      "cell_type": "code",
      "source": [
        "# Chart - 2 visualization code\n",
        "sentiment_distribution = user_review['Sentiment'].value_counts()\n",
        "explode = (0.03)\n",
        "fig = px.pie(sentiment_distribution, values=sentiment_distribution.values, names=sentiment_distribution.index,hole=0.4)\n",
        "fig.update_layout(title='Sentiment Distribution in User Reviews')\n",
        "fig.update_layout(width=800, height=600)\n",
        "fig.update_traces(rotation=90,pull = explode)\n",
        "fig.show(renderer=\"colab\")"
      ],
      "metadata": {
        "id": "R4YgtaqtYklH"
      },
      "execution_count": null,
      "outputs": []
    },
    {
      "cell_type": "markdown",
      "source": [
        "##### 1. Why did you pick the specific chart?"
      ],
      "metadata": {
        "id": "t6dVpIINYklI"
      }
    },
    {
      "cell_type": "markdown",
      "source": [
        "I picked the **Donut Chart** because it is a good way to visualize the distribution of data into categories. The pie chart shows the relative size of each category, and it is easy to see which category is the largest. The pie chart is also a good choice for this data because there are only a few categories. If there were more categories, it might be better to use a different type of chart, such as a bar chart or a line chart."
      ],
      "metadata": {
        "id": "5aaW0BYyYklI"
      }
    },
    {
      "cell_type": "markdown",
      "source": [
        "##### 2. What is/are the insight(s) found from the chart?"
      ],
      "metadata": {
        "id": "ijmpgYnKYklI"
      }
    },
    {
      "cell_type": "markdown",
      "source": [
        "* The majority of user reviews are positive.\n",
        "* There is a small number of user reviews that are negative.\n",
        "* There are an even smaller number of user reviews that are neutral.\n",
        "\n",
        "This information can be used to understand how users feel about a product or service. For example, if a company is trying to improve its customer satisfaction, it can focus on the areas where users are giving negative feedback."
      ],
      "metadata": {
        "id": "PSx9atu2YklI"
      }
    },
    {
      "cell_type": "markdown",
      "source": [
        "##### 3. Will the gained insights help creating a positive business impact? \n",
        "Are there any insights that lead to negative growth? Justify with specific reason."
      ],
      "metadata": {
        "id": "-JiQyfWJYklI"
      }
    },
    {
      "cell_type": "markdown",
      "source": [
        "**The gained insights** can help create a positive business impact. By understanding how users feel about a product or service, a company can identify areas where it can improve. For example, if a company is getting a lot of negative feedback about its customer service, it can focus on improving its customer service policies and procedures. This can lead to increased customer satisfaction, which can lead to increased sales and revenue.\n",
        "\n",
        "**There are also some insights that could lead to negative growth**. For example, if a company is getting a lot of negative feedback about its product quality, it could lead to decreased sales and revenue. Additionally, if a company is getting a lot of negative feedback about its pricing, it could lead to decreased customer satisfaction."
      ],
      "metadata": {
        "id": "BcBbebzrYklV"
      }
    },
    {
      "cell_type": "markdown",
      "source": [
        "#### Chart - 3 Donut Chart"
      ],
      "metadata": {
        "id": "EM7whBJCYoAo"
      }
    },
    {
      "cell_type": "code",
      "source": [
        "# Chart - 3 visualization code\n",
        "Type_counts = play_store['Type'].value_counts()\n",
        "explode = (0.03)\n",
        "fig = px.pie(Type_counts, values=Type_counts.values, names=Type_counts.index,hole=0.4)\n",
        "fig.update_layout(title='App Categories Distribution')\n",
        "fig.update_layout(width=500, height=500)\n",
        "fig.update_traces(rotation=90,pull = explode)\n",
        "\n",
        "fig.show(renderer=\"colab\")"
      ],
      "metadata": {
        "id": "t6GMdE67YoAp"
      },
      "execution_count": null,
      "outputs": []
    },
    {
      "cell_type": "markdown",
      "source": [
        "##### 1. Why did you pick the specific chart?"
      ],
      "metadata": {
        "id": "fge-S5ZAYoAp"
      }
    },
    {
      "cell_type": "markdown",
      "source": [
        "\n",
        "I picked the **Donut Chart** because it is a good way to show the distribution of categorical data. The size of each slice represents the percentage of the data in that category. The labels for each slice are the names of the categories. The pie chart is a simple and easy-to-understand "
      ],
      "metadata": {
        "id": "5dBItgRVYoAp"
      }
    },
    {
      "cell_type": "markdown",
      "source": [
        "##### 2. What is/are the insight(s) found from the chart?"
      ],
      "metadata": {
        "id": "85gYPyotYoAp"
      }
    },
    {
      "cell_type": "markdown",
      "source": [
        "The insight found from the donut chart is the distribution of app categories in the dataset. The chart shows the proportion of different types of apps, such as free and paid, in the overall app categories. This provides an understanding of the composition of app types and can help identify the prevalence of certain types of apps in the market."
      ],
      "metadata": {
        "id": "4jstXR6OYoAp"
      }
    },
    {
      "cell_type": "markdown",
      "source": [
        "##### 3. Will the gained insights help creating a positive business impact? \n",
        "Are there any insights that lead to negative growth? Justify with specific reason."
      ],
      "metadata": {
        "id": "RoGjAbkUYoAp"
      }
    },
    {
      "cell_type": "markdown",
      "source": [
        "\n",
        "The gained insights from the app category distribution chart can potentially help create a positive business impact. By understanding the distribution of app categories and identifying the popular ones, businesses can make informed decisions about developing and promoting apps in those categories. They can target the high-demand categories to maximize their chances of success and profitability."
      ],
      "metadata": {
        "id": "zfJ8IqMcYoAp"
      }
    },
    {
      "cell_type": "markdown",
      "source": [
        "#### Chart - 4 Horizontal Bar Chart"
      ],
      "metadata": {
        "id": "4Of9eVA-YrdM"
      }
    },
    {
      "cell_type": "code",
      "source": [
        "# Chart - 4 visualization code\n",
        "highest_rating_app = play_store.groupby('App')[[\"Installs\",\"Rating\"]].max().sort_values([\"Installs\",\"Rating\"],ascending=False).head(10)\n",
        "\n",
        "colors = px.colors.qualitative.Pastel\n",
        "fig = px.bar(highest_rating_app[::-1], y=highest_rating_app.index[::-1], x='Rating',\n",
        "             orientation='h',\n",
        "             labels={'y': 'App', 'Rating': 'Rating'},\n",
        "             title='Top 10 Highest Rated Apps',\n",
        "             color='Rating',  \n",
        ")      \n",
        "fig.update_layout(height=600, width=1200) \n",
        "fig.update_traces(opacity=0.9)\n",
        "\n",
        "fig.show(renderer=\"colab\")"
      ],
      "metadata": {
        "id": "irlUoxc8YrdO"
      },
      "execution_count": null,
      "outputs": []
    },
    {
      "cell_type": "markdown",
      "source": [
        "##### 1. Why did you pick the specific chart?"
      ],
      "metadata": {
        "id": "iky9q4vBYrdO"
      }
    },
    {
      "cell_type": "markdown",
      "source": [
        "The specific chart chosen for visualizing the top 10 highest rated apps is **a horizontal bar chart**. This chart type is suitable for comparing the ratings of different apps and easily identifying the highest rated ones. The horizontal orientation allows for displaying the app names on the y-axis, making it easier to read and comprehend the labels. The length of the bars corresponds to the ratings, allowing for a clear visual representation of the ratings hierarchy."
      ],
      "metadata": {
        "id": "aJRCwT6DYrdO"
      }
    },
    {
      "cell_type": "markdown",
      "source": [
        "##### 2. What is/are the insight(s) found from the chart?"
      ],
      "metadata": {
        "id": "F6T5p64dYrdO"
      }
    },
    {
      "cell_type": "markdown",
      "source": [
        "* The top 10 highest rated apps have been identified based on their ratings and number of installs.\n",
        "* The ratings of these top apps range from approximately 4.5 to 5.0, indicating that they have received very positive feedback from users.\n",
        "* These apps have achieved a significant number of installs, indicating their popularity among users.\n",
        "* The chart provides a visual comparison of the ratings of these top apps, allowing us to identify the apps with the highest ratings.\n",
        "* The chart helps to highlight the apps that have consistently received high ratings and have been successful in terms of user satisfaction."
      ],
      "metadata": {
        "id": "Xx8WAJvtYrdO"
      }
    },
    {
      "cell_type": "markdown",
      "source": [
        "##### 3. Will the gained insights help creating a positive business impact? \n",
        "Are there any insights that lead to negative growth? Justify with specific reason."
      ],
      "metadata": {
        "id": "y-Ehk30pYrdP"
      }
    },
    {
      "cell_type": "markdown",
      "source": [
        "**Positive Business Impact:**\n",
        "\n",
        "* The identification of the top 10 highest rated apps allows the business to understand which apps are resonating well with users. This knowledge can be leveraged to drive marketing strategies and allocate resources towards the development and promotion of similar high-rated apps. It can lead to increased user satisfaction, positive word-of-mouth, and potentially higher app downloads and revenue.\n",
        "\n",
        "**Negative Growth:**\n",
        "* Based on the insights from the given chart, there are no specific insights that indicate negative growth. The chart focuses on highlighting the top-rated apps and does not provide information on apps with lower ratings or negative trends. Therefore, the insights gained from this particular chart do not suggest any negative impact on business growth."
      ],
      "metadata": {
        "id": "jLNxxz7MYrdP"
      }
    },
    {
      "cell_type": "markdown",
      "source": [
        "#### Chart - 5 Histogram chart"
      ],
      "metadata": {
        "id": "bamQiAODYuh1"
      }
    },
    {
      "cell_type": "code",
      "source": [
        "# Chart - 5 visualization code\n",
        "fig = px.histogram(play_store, x='Category', title='Number of Apps Per Category',\n",
        "                   color='Category')\n",
        "\n",
        "fig.update_layout(\n",
        "    xaxis={'categoryorder': 'total descending'},\n",
        "    xaxis_title='Category',\n",
        "    yaxis_title='Number of Apps'\n",
        ")\n",
        "\n",
        "fig.show(renderer=\"colab\")"
      ],
      "metadata": {
        "id": "TIJwrbroYuh3"
      },
      "execution_count": null,
      "outputs": []
    },
    {
      "cell_type": "markdown",
      "source": [
        "##### 1. Why did you pick the specific chart?"
      ],
      "metadata": {
        "id": "QHF8YVU7Yuh3"
      }
    },
    {
      "cell_type": "markdown",
      "source": [
        "I picked **The histogram chart** because it effectively visualizes the distribution of the number of apps across different categories. The histogram allows us to see the frequency or count of apps in each category, giving us an overview of the app distribution pattern."
      ],
      "metadata": {
        "id": "dcxuIMRPYuh3"
      }
    },
    {
      "cell_type": "markdown",
      "source": [
        "##### 2. What is/are the insight(s) found from the chart?"
      ],
      "metadata": {
        "id": "GwzvFGzlYuh3"
      }
    },
    {
      "cell_type": "markdown",
      "source": [
        "* The category with the highest number of apps: We can identify the category that has the highest bar on the histogram, indicating the category with the most number of apps.\n",
        "* Comparisons between categories: We can compare the heights of the bars for different categories to understand the relative number of apps in each category."
      ],
      "metadata": {
        "id": "uyqkiB8YYuh3"
      }
    },
    {
      "cell_type": "markdown",
      "source": [
        "##### 3. Will the gained insights help creating a positive business impact? \n",
        "Are there any insights that lead to negative growth? Justify with specific reason."
      ],
      "metadata": {
        "id": "qYpmQ266Yuh3"
      }
    },
    {
      "cell_type": "markdown",
      "source": [
        "* Identifying popular categories: By analyzing the number of apps in each category, businesses can identify the categories that have a higher demand and popularity among users. This information can guide businesses in developing and promoting apps in those categories, potentially leading to increased user engagement and revenue.\n",
        "\n",
        "* Market analysis: The distribution of apps across different categories provides insights into the competitive landscape. Businesses can assess the level of saturation in certain categories and make informed decisions about entering less crowded categories or finding unique selling propositions within popular categories.\n",
        "\n",
        "* There may not be specific insights from the chart that directly indicate negative growth. Negative growth can occur in various scenarios such as poor app performance, low user ratings, or lack of user engagement. These factors are not solely determined by the number of apps in a category but require deeper analysis of user feedback, app quality, marketing strategies, and other factors that impact app success."
      ],
      "metadata": {
        "id": "_WtzZ_hCYuh4"
      }
    },
    {
      "cell_type": "markdown",
      "source": [
        "#### Chart - 6 Histogram Chart"
      ],
      "metadata": {
        "id": "OH-pJp9IphqM"
      }
    },
    {
      "cell_type": "code",
      "source": [
        "# Chart - 6 visualization code\n",
        "fig = px.histogram(play_store, x='Content Rating', title='Number of Apps Per Content Rating', color_discrete_sequence=px.colors.qualitative.Pastel)\n",
        "\n",
        "colors = ['#FFA07A', '#7B68EE', '#00CED1', '#FFD700', '#FFC0CB', '#98FB98', '#FF6347']\n",
        "fig.update_traces(marker_color=colors)\n",
        "\n",
        "fig.update_layout(\n",
        "    xaxis={'categoryorder': 'total descending'},\n",
        "    xaxis_title='Content Rating',\n",
        "    yaxis_title='Number of Apps'\n",
        ")\n",
        "\n",
        "fig.show(renderer=\"colab\")"
      ],
      "metadata": {
        "id": "kuRf4wtuphqN"
      },
      "execution_count": null,
      "outputs": []
    },
    {
      "cell_type": "markdown",
      "source": [
        "##### 1. Why did you pick the specific chart?"
      ],
      "metadata": {
        "id": "bbFf2-_FphqN"
      }
    },
    {
      "cell_type": "markdown",
      "source": [
        "**A Histogram Chart** to represent the number of apps per content rating because it effectively shows the distribution of apps across different content ratings. A histogram is suitable for visualizing the frequency or count of data points in different categories, making it easy to compare the number of apps in each content rating category."
      ],
      "metadata": {
        "id": "loh7H2nzphqN"
      }
    },
    {
      "cell_type": "markdown",
      "source": [
        "##### 2. What is/are the insight(s) found from the chart?"
      ],
      "metadata": {
        "id": "_ouA3fa0phqN"
      }
    },
    {
      "cell_type": "markdown",
      "source": [
        "* The majority of apps have a content rating of \"Everyone\" or \"Teen\".\n",
        "* The number of apps gradually decreases as we move towards higher content ratings such as \"Mature 17+\" and \"Adults only 18+\".\n",
        "* There is a relatively small number of apps with content ratings of \"Unrated\" or \"Everyone 10+\"."
      ],
      "metadata": {
        "id": "VECbqPI7phqN"
      }
    },
    {
      "cell_type": "markdown",
      "source": [
        "##### 3. Will the gained insights help creating a positive business impact? \n",
        "Are there any insights that lead to negative growth? Justify with specific reason."
      ],
      "metadata": {
        "id": "Seke61FWphqN"
      }
    },
    {
      "cell_type": "markdown",
      "source": [
        "* By knowing that the majority of apps have content ratings of \"Everyone\" or \"Teen,\" businesses can focus their efforts on developing and marketing apps that cater to these target audiences. This alignment with the dominant content ratings can increase the likelihood of attracting a larger user base and generating positive business outcomes.\n",
        "\n",
        "**There isn't a specific insight that directly indicates negative growth. However, it's important to consider the potential impact of certain content ratings on the target audience and market reach**\n",
        "\n",
        "* Limited audience reach for higher content ratings: The chart shows that content ratings such as \"Mature 17+\" and \"Adults only 18+\" have a smaller number of apps compared to ratings like \"Everyone\" or \"Teen.\" While targeting a more mature or adult audience can be a valid business strategy for certain app categories, it's essential to recognize that the potential user base may be narrower compared to apps with lower content ratings. This limited audience reach could affect overall growth opportunities."
      ],
      "metadata": {
        "id": "DW4_bGpfphqN"
      }
    },
    {
      "cell_type": "markdown",
      "source": [
        "#### Chart - 7  Scatter Plot"
      ],
      "metadata": {
        "id": "PIIx-8_IphqN"
      }
    },
    {
      "cell_type": "code",
      "source": [
        "# Chart - 7 visualization code\n",
        "fig = px.scatter(user_review, x='Sentiment_Subjectivity', y='Sentiment_Polarity', color='Sentiment',\n",
        "                 title='Google Play Store Reviews Sentiment Analysis',\n",
        "                 labels={'Sentiment_Subjectivity': 'Subjectivity', 'Sentiment_Polarity': 'Polarity'},\n",
        "                 )\n",
        "\n",
        "fig.show(renderer=\"colab\")\n",
        "\n"
      ],
      "metadata": {
        "id": "lqAIGUfyphqO"
      },
      "execution_count": null,
      "outputs": []
    },
    {
      "cell_type": "markdown",
      "source": [
        "##### 1. Why did you pick the specific chart?"
      ],
      "metadata": {
        "id": "t27r6nlMphqO"
      }
    },
    {
      "cell_type": "markdown",
      "source": [
        " The **scatter plot** allows us to observe any patterns, trends, or clusters in the data and identify how sentiment varies across different values of subjectivity and polarity. Additionally, the use of colors to represent different sentiment categories adds an extra dimension to the visualization, making it easier to interpret the sentiment analysis results."
      ],
      "metadata": {
        "id": "iv6ro40sphqO"
      }
    },
    {
      "cell_type": "markdown",
      "source": [
        "##### 2. What is/are the insight(s) found from the chart?"
      ],
      "metadata": {
        "id": "r2jJGEOYphqO"
      }
    },
    {
      "cell_type": "markdown",
      "source": [
        "* Distribution: The data points are spread across a range of subjectivity and polarity values, indicating a varied sentiment in the reviews.\n",
        "* Sentiment Categories: The data points are color-coded based on sentiment categories (e.g., positive, neutral, negative), allowing for a quick understanding of the sentiment distribution.\n",
        "* Clusters: There appear to be clusters of data points with similar subjectivity and polarity values, suggesting groups of reviews with similar sentiments.\n",
        "* Sentiment Patterns: The scatter plot shows how the sentiment (positive, neutral, negative) is distributed across different levels of subjectivity and polarity. This provides insights into the overall sentiment patterns in the reviews dataset."
      ],
      "metadata": {
        "id": "Po6ZPi4hphqO"
      }
    },
    {
      "cell_type": "markdown",
      "source": [
        "##### 3. Will the gained insights help creating a positive business impact? \n",
        "Are there any insights that lead to negative growth? Justify with specific reason."
      ],
      "metadata": {
        "id": "b0JNsNcRphqO"
      }
    },
    {
      "cell_type": "markdown",
      "source": [
        "* Identify Positive Sentiments: By analyzing the distribution of positive sentiments, businesses can identify which aspects of their app or service are well-received by users. This insight can be used to further enhance and promote those positive aspects, leading to improved customer satisfaction and positive word-of-mouth.\n",
        "\n",
        "* Address Negative Sentiments: Negative sentiments highlighted in the analysis can provide businesses with valuable feedback on areas that need improvement. By addressing and resolving the issues raised in negative reviews, businesses can enhance their product or service, leading to higher customer satisfaction and better user experiences.\n",
        "\n",
        "* Understand User Preferences: Analyzing sentiment patterns across different subjectivity and polarity levels can provide insights into user preferences and expectations. This understanding can guide businesses in tailoring their offerings to better align with user preferences, resulting in increased customer engagement and loyalty.\n",
        "\n",
        "It is essential to note that negative sentiments or areas for improvement identified in the analysis may indicate potential challenges or issues that need to be addressed. Ignoring or neglecting these negative insights can lead to negative growth or a decline in customer satisfaction and business performance. It is crucial for businesses to take prompt action to address and resolve any concerns raised by users to maintain a positive business impact."
      ],
      "metadata": {
        "id": "xvSq8iUTphqO"
      }
    },
    {
      "cell_type": "markdown",
      "source": [
        "#### Chart - 8 Combines a Box plot and a Kernel density plot."
      ],
      "metadata": {
        "id": "BZR9WyysphqO"
      }
    },
    {
      "cell_type": "code",
      "source": [
        "# Chart - 8 visualization\n",
        "\n",
        "\n",
        "fig = px.violin(play_store, y=\"Rating\", box=True, points=\"all\", title=\"Distribution of App Ratings\", \n",
        "                violinmode='overlay', color_discrete_sequence=px.colors.qualitative.Pastel)\n",
        "\n",
        "fig.update_traces(meanline_visible=True, line_color='darkblue')\n",
        "fig.update_layout(yaxis_title=\"Ratings\")\n",
        "\n",
        "fig.show(renderer=\"colab\")"
      ],
      "metadata": {
        "id": "TdPTWpAVphqO"
      },
      "execution_count": null,
      "outputs": []
    },
    {
      "cell_type": "markdown",
      "source": [
        "##### 1. Why did you pick the specific chart?"
      ],
      "metadata": {
        "id": "jj7wYXLtphqO"
      }
    },
    {
      "cell_type": "markdown",
      "source": [
        "The chosen chart, the violin plot, **Combines a Box plot and a Kernel density plot.** It is an effective choice for visualizing the distribution of app ratings because it provides information about the central tendency (box plot) and the overall distribution shape (kernel density plot) simultaneously. The addition of the box plot inside the violin plot allows for easy interpretation of the quartiles, median, and any outliers in the rating distribution."
      ],
      "metadata": {
        "id": "Ob8u6rCTphqO"
      }
    },
    {
      "cell_type": "markdown",
      "source": [
        "##### 2. What is/are the insight(s) found from the chart?"
      ],
      "metadata": {
        "id": "eZrbJ2SmphqO"
      }
    },
    {
      "cell_type": "markdown",
      "source": [
        "* The majority of app ratings are concentrated around the range of 3.5 to 4.5, as indicated by the wider section of the violin plot in that region.\n",
        "* The median rating, represented by the white dot within the violin plot, is around 4.3. This suggests that the average app rating tends to be relatively high.\n",
        "* The presence of thinner sections and the presence of outliers towards lower ratings indicate that there are some apps with lower ratings, indicating potential areas for improvement.\n",
        "* The distribution of app ratings appears to be slightly positively skewed, as the right side of the violin plot (higher ratings) extends further than the left side (lower ratings)."
      ],
      "metadata": {
        "id": "mZtgC_hjphqO"
      }
    },
    {
      "cell_type": "markdown",
      "source": [
        "##### 3. Will the gained insights help creating a positive business impact? \n",
        "Are there any insights that lead to negative growth? Justify with specific reason."
      ],
      "metadata": {
        "id": "rFu4xreNphqO"
      }
    },
    {
      "cell_type": "markdown",
      "source": [
        "* Identify areas for improvement: By analyzing the distribution of app ratings, businesses can identify any negative outliers or areas where the ratings are lower. These insights can guide businesses to focus on improving the features, functionality, user experience, or addressing any issues that may have contributed to lower ratings. This proactive approach can lead to an enhanced user experience, increased customer satisfaction, and potentially positive business impact.\n",
        "\n",
        "* Competitive analysis: Comparing the distribution of app ratings with competitors can provide insights into the market landscape and help businesses gauge their performance relative to their competitors. If competitors have higher average ratings or a more positively skewed distribution, it may indicate that there is room for improvement to stay competitive in the market and attract more users.\n",
        "\n",
        "**If the distribution of app ratings is heavily skewed towards lower ratings or has a significant number of negative outliers, it indicates a higher dissatisfaction level among users. This can potentially lead to negative growth for the business.**"
      ],
      "metadata": {
        "id": "ey_0qi68phqO"
      }
    },
    {
      "cell_type": "markdown",
      "source": [
        "#### Chart - 9"
      ],
      "metadata": {
        "id": "YJ55k-q6phqO"
      }
    },
    {
      "cell_type": "code",
      "source": [
        "# Chart - 9 visualization code\n",
        "ratings_subjectivity = pd.merge(play_store[['App', 'Rating']], user_review[['App', 'Sentiment_Subjectivity']], on='App')\n",
        "\n",
        "fig = px.scatter(ratings_subjectivity, x='Rating', y='Sentiment_Subjectivity', title='App Ratings vs. Sentiment Subjectivity')\n",
        "\n",
        "fig.update_layout(\n",
        "    xaxis_title='App Rating',\n",
        "    yaxis_title='Sentiment Subjectivity'\n",
        ")\n",
        "\n",
        "fig.show(renderer=\"colab\")\n"
      ],
      "metadata": {
        "id": "B2aS4O1ophqO"
      },
      "execution_count": null,
      "outputs": []
    },
    {
      "cell_type": "markdown",
      "source": [
        "##### 1. Why did you pick the specific chart?"
      ],
      "metadata": {
        "id": "gCFgpxoyphqP"
      }
    },
    {
      "cell_type": "markdown",
      "source": [
        "**The scatter plot** was chosen to visualize the relationship between app ratings and sentiment subjectivity because it allows us to examine the individual data points and observe any patterns or trends. Scatter plots are effective for displaying the correlation between two continuous variables and can help identify any potential relationships or outliers in the data."
      ],
      "metadata": {
        "id": "TVxDimi2phqP"
      }
    },
    {
      "cell_type": "markdown",
      "source": [
        "##### 2. What is/are the insight(s) found from the chart?"
      ],
      "metadata": {
        "id": "OVtJsKN_phqQ"
      }
    },
    {
      "cell_type": "markdown",
      "source": [
        "* There is a slight positive correlation between app ratings and sentiment subjectivity. As the app rating increases, there tends to be a slightly higher sentiment subjectivity.\n",
        "* Most of the app ratings are concentrated in the range of 3 to 5, indicating that the majority of apps have relatively positive sentiment subjectivity.\n",
        "* There are a few outliers with low app ratings and high sentiment subjectivity, suggesting that some apps may have received negative sentiment despite having a lower rating."
      ],
      "metadata": {
        "id": "ngGi97qjphqQ"
      }
    },
    {
      "cell_type": "markdown",
      "source": [
        "##### 3. Will the gained insights help creating a positive business impact? \n",
        "Are there any insights that lead to negative growth? Justify with specific reason."
      ],
      "metadata": {
        "id": "lssrdh5qphqQ"
      }
    },
    {
      "cell_type": "markdown",
      "source": [
        "* Feedback and Improvement: Analyzing the sentiment subjectivity associated with different app ratings can help businesses identify areas for improvement. By considering the sentiment expressed in user reviews, businesses can gain insights into specific aspects of their apps that are positively or negatively impacting user experiences. This information can guide them in making necessary improvements to enhance user satisfaction.\n",
        "\n",
        "* User Engagement and Retention: Positive sentiment subjectivity associated with higher app ratings indicates a generally favorable user experience. This can contribute to user engagement and satisfaction, leading to higher retention rates. By understanding the correlation between app ratings and sentiment subjectivity, businesses can focus on maintaining high-quality features and functionalities that align with positive user sentiment.\n",
        "\n",
        "It is important to note that the insights from the chart do not directly indicate negative growth. The slight positive correlation observed between app ratings and sentiment subjectivity suggests that higher ratings tend to be associated with higher sentiment subjectivity. However, this does not imply that negative sentiment subjectivity will lead to negative growth. Negative sentiment can still provide valuable feedback for businesses to address areas of improvement and enhance the overall user experience. It is crucial for businesses to monitor and address negative sentiment effectively to mitigate any potential negative impacts."
      ],
      "metadata": {
        "id": "tBpY5ekJphqQ"
      }
    },
    {
      "cell_type": "markdown",
      "source": [
        "#### Chart - 10  The Boxplot Chart"
      ],
      "metadata": {
        "id": "U2RJ9gkRphqQ"
      }
    },
    {
      "cell_type": "code",
      "source": [
        "\n",
        "fig = px.box(user_review, y='Sentiment_Subjectivity', title='Box Plot - Sentiment Subjectivity',\n",
        "             color_discrete_sequence=['#330C73'])\n",
        "fig.update_layout(height=400, width=600)\n",
        "fig.show(renderer=\"colab\")"
      ],
      "metadata": {
        "id": "GM7a4YP4phqQ"
      },
      "execution_count": null,
      "outputs": []
    },
    {
      "cell_type": "markdown",
      "source": [
        "##### 1. Why did you pick the specific chart?"
      ],
      "metadata": {
        "id": "1M8mcRywphqQ"
      }
    },
    {
      "cell_type": "markdown",
      "source": [
        "**The boxplot chart** was chosen to visualize the distribution of the \"Sentiment_Subjectivity\" variable in the user reviews dataset. The boxplot provides a clear representation of the median, quartiles, and outliers, allowing for easy comparison of the data's spread and identifying any potential patterns or anomalies in the sentiment subjectivity."
      ],
      "metadata": {
        "id": "8agQvks0phqQ"
      }
    },
    {
      "cell_type": "markdown",
      "source": [
        "##### 2. What is/are the insight(s) found from the chart?"
      ],
      "metadata": {
        "id": "tgIPom80phqQ"
      }
    },
    {
      "cell_type": "markdown",
      "source": [
        "The median value of the sentiment subjectivity is around 0.5, indicating a moderate level of subjectivity in the user reviews.\n",
        "The interquartile range (IQR) suggests that the majority of sentiment subjectivity values fall between approximately 0.3 and 0.7.\n",
        "The whiskers of the boxplot show that there are some outliers in the dataset, indicating extreme values of sentiment subjectivity in certain user reviews."
      ],
      "metadata": {
        "id": "Qp13pnNzphqQ"
      }
    },
    {
      "cell_type": "markdown",
      "source": [
        "##### 3. Will the gained insights help creating a positive business impact? \n",
        "Are there any insights that lead to negative growth? Justify with specific reason."
      ],
      "metadata": {
        "id": "JMzcOPDDphqR"
      }
    },
    {
      "cell_type": "markdown",
      "source": [
        "That the impact on business growth depends on various factors, including the nature of the outliers and the actions taken by the business to address them. While addressing negative sentiments can have a positive impact, it's crucial to carefully consider the specific insights gained from the analysis and take appropriate actions to mitigate any negative growth.\n",
        "\n",
        "These insights and take appropriate actions to address negative sentiments, improve user satisfaction, and foster a positive environment for growth. By actively addressing any issues identified through the sentiment analysis, businesses can work towards minimizing negative growth and maximizing positive outcomes."
      ],
      "metadata": {
        "id": "R4Ka1PC2phqR"
      }
    },
    {
      "cell_type": "markdown",
      "source": [
        "#### Chart - 11"
      ],
      "metadata": {
        "id": "x-EpHcCOp1ci"
      }
    },
    {
      "cell_type": "code",
      "source": [
        "# Chart - 11 visualization code\n",
        "\n",
        "play_store['Installs'] = play_store['Installs'].str.replace(',', '').str.replace('+', '').astype(float)\n",
        "category_installs = play_store.groupby('Category')['Installs'].sum().reset_index()\n",
        "bins = [0, 100000, 1000000, 10000000, np.inf]\n",
        "labels = ['<100K', '100K-1M', '1M-10M', '10M+']\n",
        "category_installs['Installs Group'] = pd.cut(category_installs['Installs'], bins=bins, labels=labels)\n",
        "\n",
        "fig = px.bar(category_installs, x='Category', y='Installs', color='Installs Group',\n",
        "             category_orders={'Installs Group': labels},\n",
        "             hover_data={'Installs': ':,.0f'})\n",
        "\n",
        "fig.update_layout(title='Total Installs by Category',\n",
        "                  xaxis_title='Category',\n",
        "                  yaxis_title='Total Installs',\n",
        "                  xaxis_tickangle=-45,\n",
        ")\n",
        "                  \n",
        "\n",
        "fig.show()\n"
      ],
      "metadata": {
        "id": "mAQTIvtqp1cj"
      },
      "execution_count": null,
      "outputs": []
    },
    {
      "cell_type": "markdown",
      "source": [
        "##### 1. Why did you pick the specific chart?"
      ],
      "metadata": {
        "id": "X_VqEhTip1ck"
      }
    },
    {
      "cell_type": "markdown",
      "source": [
        "**The bar plot** to showcase the total installs by category because it effectively compares the install numbers across different categories. The length of each bar represents the total number of installs, and the different colors of the bars help distinguish between categories. This chart is suitable for visualizing and comparing quantitative data (total installs) across categorical variables (categories)."
      ],
      "metadata": {
        "id": "-vsMzt_np1ck"
      }
    },
    {
      "cell_type": "markdown",
      "source": [
        "##### 2. What is/are the insight(s) found from the chart?"
      ],
      "metadata": {
        "id": "8zGJKyg5p1ck"
      }
    },
    {
      "cell_type": "markdown",
      "source": [
        "* The \"GAME\" category has the highest total number of installs, indicating that gaming apps are popular among users.\n",
        "* The \"COMMUNICATION\" and \"SOCIAL\" categories also have a high number of installs, suggesting the popularity of communication and social networking apps.\n",
        "* Categories such as \"FAMILY,\" \"TOOLS,\" and \"PRODUCTIVITY\" also have significant numbers of installs, indicating their relevance and demand among users.\n",
        "* On the other hand, categories like \"BEAUTY,\" \"COMICS,\" and \"PARENTING\" have relatively lower numbers of installs, indicating a lesser level of user interest in these categories."
      ],
      "metadata": {
        "id": "ZYdMsrqVp1ck"
      }
    },
    {
      "cell_type": "markdown",
      "source": [
        "##### 3. Will the gained insights help creating a positive business impact? \n",
        "Are there any insights that lead to negative growth? Justify with specific reason."
      ],
      "metadata": {
        "id": "PVzmfK_Ep1ck"
      }
    },
    {
      "cell_type": "markdown",
      "source": [
        "\n",
        "* The gained insights from the chart can potentially help create a positive business impact. Understanding the popularity of different app categories and the total number of installs can guide businesses in making strategic decisions related to app development, marketing campaigns, and revenue generation. By focusing on popular categories with high installs, businesses can align their efforts to cater to user preferences and potentially drive higher user engagement and revenue.\n",
        "\n",
        "* That may lead to negative growth, it would depend on the specific context and objectives of the business. While some categories may have lower numbers of installs compared to others, it does not necessarily imply negative growth. The lower number of installs in certain categories could indicate a niche market or a more targeted user base. In such cases, businesses can leverage these insights to tailor their products and marketing strategies to cater to the specific needs and preferences of that niche market, potentially leading to positive growth within that target audience."
      ],
      "metadata": {
        "id": "druuKYZpp1ck"
      }
    },
    {
      "cell_type": "markdown",
      "source": [
        "#### Chart - 12 Box Plot"
      ],
      "metadata": {
        "id": "n3dbpmDWp1ck"
      }
    },
    {
      "cell_type": "code",
      "source": [
        "# Chart - 12 visualization code\n",
        "play_store['Size'] = play_store['Size'].str.replace('M', '').str.replace('k', '')\n",
        "play_store['Size'] = pd.to_numeric(play_store['Size'], errors='coerce')\n",
        "\n",
        "fig = px.box(play_store, x='Category', y='Size', color='Category')\n",
        "fig.update_layout(title='Distribution of App Sizes by Category',\n",
        "                  xaxis_title='Category',\n",
        "                  yaxis_title='App Size (in MB)')\n",
        "\n",
        "fig.show()"
      ],
      "metadata": {
        "id": "bwevp1tKp1ck"
      },
      "execution_count": null,
      "outputs": []
    },
    {
      "cell_type": "markdown",
      "source": [
        "##### 1. Why did you pick the specific chart?"
      ],
      "metadata": {
        "id": "ylSl6qgtp1ck"
      }
    },
    {
      "cell_type": "markdown",
      "source": [
        " **The box plot** for this visualization because it effectively shows the distribution of app sizes across different categories. The box plot allows us to compare the central tendency, spread, and outliers of the app sizes for each category. Additionally, using different colors for each category in the plot helps to distinguish and highlight the differences between them."
      ],
      "metadata": {
        "id": "m2xqNkiQp1ck"
      }
    },
    {
      "cell_type": "markdown",
      "source": [
        "##### 2. What is/are the insight(s) found from the chart?"
      ],
      "metadata": {
        "id": "ZWILFDl5p1ck"
      }
    },
    {
      "cell_type": "markdown",
      "source": [
        "* The \"Education\" category has the widest range of app sizes, indicated by the long whiskers. This suggests that there is a significant variation in app sizes within this category.\n",
        "\n",
        "* The \"Entertainment\" category has a relatively higher median app size compared to other categories, as indicated by the position of the box.\n",
        "\n",
        "* The \"Photography\" category has a large number of outliers, indicated by the individual data points beyond the whiskers. This suggests the presence of some photography apps with exceptionally large file sizes.\n",
        "\n",
        "* The \"Medical\" and \"Books & Reference\" categories have relatively smaller app sizes overall, as indicated by the lower position of the boxes.\n",
        "\n",
        "* The \"Game\" category shows a wide spread of app sizes, with some outliers indicating the presence of large game apps."
      ],
      "metadata": {
        "id": "x-lUsV2mp1ck"
      }
    },
    {
      "cell_type": "markdown",
      "source": [
        "##### 3. Will the gained insights help creating a positive business impact? \n",
        "Are there any insights that lead to negative growth? Justify with specific reason."
      ],
      "metadata": {
        "id": "M7G43BXep1ck"
      }
    },
    {
      "cell_type": "markdown",
      "source": [
        "* Understanding the variation in app sizes within different categories can provide insights into the user preferences and expectations for app sizes. This information can be used to optimize app development and deployment strategies, ensuring that the app sizes align with user expectations and device storage limitations.\n",
        "\n",
        "* Identifying categories with larger median app sizes, such as the \"Entertainment\" category, can indicate a higher demand for content-rich or feature-packed apps. This insight can guide businesses to invest in developing and offering high-quality apps in these categories to attract and retain users.\n",
        "\n",
        "\n",
        "**There can be insights from the box plot that may potentially lead to negative growth.**\n",
        "\n",
        "* Identifying categories with consistently low median app sizes, such as the \"Education\" category, might suggest a lack of content or features in apps within that category. This insight can indicate that users in the Education category have higher expectations for app content and functionality. If businesses in this category do not meet these expectations, it could result in negative user experiences, lower user engagement, and ultimately, negative growth.\n",
        "\n",
        "* Recognizing categories with a high number of outliers representing extremely large app sizes, such as the \"Gaming\" category, can indicate that certain gaming apps within that category are excessively large in file size. Large app sizes can deter users with limited storage capacity or slower internet connections, leading to lower app downloads, reduced user retention, and potential negative growth."
      ],
      "metadata": {
        "id": "5wwDJXsLp1cl"
      }
    },
    {
      "cell_type": "markdown",
      "source": [
        "#### Chart - 13 The Line Chart"
      ],
      "metadata": {
        "id": "Ag9LCva-p1cl"
      }
    },
    {
      "cell_type": "code",
      "source": [
        "# Chart - 13 visualization code\n",
        "fig = px.line(x=update_counts.index, y=update_counts, title='Distribution of App Updates Over the Years')\n",
        "fig.update_layout(xaxis_title='Year', yaxis_title='Number of Apps')\n",
        "fig.update_traces(line_color='darkblue')\n",
        "\n",
        "fig.show(renderer=\"colab\")\n"
      ],
      "metadata": {
        "id": "EUfxeq9-p1cl"
      },
      "execution_count": null,
      "outputs": []
    },
    {
      "cell_type": "markdown",
      "source": [
        "##### 1. Why did you pick the specific chart?"
      ],
      "metadata": {
        "id": "E6MkPsBcp1cl"
      }
    },
    {
      "cell_type": "markdown",
      "source": [
        "**The line chart** because it effectively displays the distribution of app updates over the years. The line chart allows us to visualize the trend and changes in the number of app updates over time. It shows the overall pattern and any potential fluctuations or growth trends."
      ],
      "metadata": {
        "id": "V22bRsFWp1cl"
      }
    },
    {
      "cell_type": "markdown",
      "source": [
        "##### 2. What is/are the insight(s) found from the chart?"
      ],
      "metadata": {
        "id": "2cELzS2fp1cl"
      }
    },
    {
      "cell_type": "markdown",
      "source": [
        "* There has been a steady increase in the number of app updates over the years, with a notable spike in updates around 2018-2019.\n",
        "* The number of app updates shows a generally positive trend, indicating active development and maintenance of apps in the dataset.\n",
        "* There may be some variations in the number of updates across different years, suggesting potential factors influencing the frequency of updates, such as technological advancements, market demands, or changes in app development practices."
      ],
      "metadata": {
        "id": "ozQPc2_Ip1cl"
      }
    },
    {
      "cell_type": "markdown",
      "source": [
        "##### 3. Will the gained insights help creating a positive business impact? \n",
        "Are there any insights that lead to negative growth? Justify with specific reason."
      ],
      "metadata": {
        "id": "3MPXvC8up1cl"
      }
    },
    {
      "cell_type": "markdown",
      "source": [
        "* Positive business impact: The increasing number of app updates indicates active development and maintenance of apps. This suggests that businesses are investing in improving their apps, adding new features, fixing bugs, and addressing user feedback. By prioritizing regular updates, businesses can enhance user experience, attract new users, and retain existing ones. This can result in increased customer satisfaction, improved app ratings, and potentially higher revenue.\n",
        "\n",
        "* Negative growth: Based on the provided data and the insights from the chart, there are no specific indications of negative growth. However, it's important to note that a decline or stagnation in the number of app updates could potentially lead to negative growth. If businesses neglect updating their apps, it can result in outdated features, poor performance, security vulnerabilities, and a decline in user engagement. This can lead to negative reviews, decreased user satisfaction, and ultimately, a negative impact on the business"
      ],
      "metadata": {
        "id": "GL8l1tdLp1cl"
      }
    },
    {
      "cell_type": "markdown",
      "source": [
        "#### Chart - 14 - Correlation Heatmap"
      ],
      "metadata": {
        "id": "NC_X3p0fY2L0"
      }
    },
    {
      "cell_type": "code",
      "source": [
        "# Correlation Heatmap visualization code\n",
        "ratings_subjectivity = pd.merge(play_store[['App', 'Rating']], user_review[['App', 'Sentiment_Subjectivity']], on='App')\n",
        "correlation = ratings_subjectivity[['Rating', 'Sentiment_Subjectivity']].corr()\n",
        "\n",
        "fig = px.imshow(correlation)\n",
        "fig.update_layout(title=\"Correlation between App Ratings and Sentiment Subjectivity\", width=500, height=400)\n",
        "fig.show(renderer=\"colab\")"
      ],
      "metadata": {
        "id": "xyC9zolEZNRQ"
      },
      "execution_count": null,
      "outputs": []
    },
    {
      "cell_type": "markdown",
      "source": [
        "##### 1. Why did you pick the specific chart?"
      ],
      "metadata": {
        "id": "UV0SzAkaZNRQ"
      }
    },
    {
      "cell_type": "markdown",
      "source": [
        "The **correlation heatmap** was chosen to visualize the relationship between app ratings and sentiment subjectivity. Heatmaps are effective in showing the correlation between variables using color gradients. They provide a quick and intuitive way to identify the strength and direction of the correlation between two variables."
      ],
      "metadata": {
        "id": "DVPuT8LYZNRQ"
      }
    },
    {
      "cell_type": "markdown",
      "source": [
        "##### 2. What is/are the insight(s) found from the chart?"
      ],
      "metadata": {
        "id": "YPEH6qLeZNRQ"
      }
    },
    {
      "cell_type": "markdown",
      "source": [
        "the heatmap provides insights into the relationship between app ratings and sentiment subjectivity, highlighting the tendency for higher sentiment subjectivity to be associated with higher app ratings. However, it is important to consider additional factors when analyzing and predicting app ratings."
      ],
      "metadata": {
        "id": "bfSqtnDqZNRR"
      }
    },
    {
      "cell_type": "markdown",
      "source": [
        "#### Chart - 15 - Pair Plot "
      ],
      "metadata": {
        "id": "q29F0dvdveiT"
      }
    },
    {
      "cell_type": "code",
      "source": [
        "# Pair Plot visualization code\n",
        "\n",
        "\n",
        "Rating = play_store['Rating']\n",
        "Size = play_store['Size']\n",
        "Installs = play_store['Installs'].apply(np.log)\n",
        "Reviews = play_store['Reviews'].astype(float).apply(np.log10)\n",
        "Type = play_store['Type']\n",
        "Price = play_store['Price']\n",
        "\n",
        "data = pd.DataFrame({'Rating': Rating, 'Size': Size, 'Installs': Installs, 'Reviews': Reviews, 'Price': Price, 'Type': Type})\n",
        "\n",
        "p = sns.pairplot(data, diag_kind='kde', hue='Type')\n",
        "p.fig.suptitle(\"Pairwise Plot - Rating, Size, Installs, Reviews, Price\", x=0.5, y=1.0, fontsize=16)\n",
        "\n"
      ],
      "metadata": {
        "id": "o58-TEIhveiU"
      },
      "execution_count": null,
      "outputs": []
    },
    {
      "cell_type": "markdown",
      "source": [
        "##### 1. Why did you pick the specific chart?"
      ],
      "metadata": {
        "id": "EXh0U9oCveiU"
      }
    },
    {
      "cell_type": "markdown",
      "source": [
        "The **pair plot** was chosen to visualize the relationships between multiple variables in the dataset. It allows us to examine the pairwise correlations and patterns between different variables, such as Rating, Size, Installs, Reviews, Price, and Type. The pair plot provides a comprehensive view of the relationships and can help identify any interesting patterns or trends."
      ],
      "metadata": {
        "id": "eMmPjTByveiU"
      }
    },
    {
      "cell_type": "markdown",
      "source": [
        "##### 2. What is/are the insight(s) found from the chart?"
      ],
      "metadata": {
        "id": "22aHeOlLveiV"
      }
    },
    {
      "cell_type": "markdown",
      "source": [
        "* Rating and Reviews: There appears to be a positive correlation between the number of reviews and the app rating. Apps with higher ratings tend to have more reviews.\n",
        "\n",
        "* Size and Installs: There is no clear correlation between the size of the app and the number of installs. Apps of various sizes have a wide range of install counts.\n",
        "\n",
        "* Price and Installs: Free apps have a higher number of installs compared to paid apps. Paid apps generally have lower install counts.\n",
        "\n",
        "* Price and Reviews: There is no strong correlation between the price of the app and the number of reviews. Apps with different price ranges have varying review counts.\n",
        "\n",
        "* Type and Rating: There is a noticeable difference in the distribution of ratings between free and paid apps. Free apps tend to have a wider range of ratings, while paid apps have a narrower distribution with higher average ratings."
      ],
      "metadata": {
        "id": "uPQ8RGwHveiV"
      }
    },
    {
      "cell_type": "markdown",
      "source": [
        "## **5. Solution to Business Objective**"
      ],
      "metadata": {
        "id": "JcMwzZxoAimU"
      }
    },
    {
      "cell_type": "markdown",
      "source": [
        "#### What do you suggest the client to achieve Business Objective ? \n",
        "Explain Briefly."
      ],
      "metadata": {
        "id": "8G2x9gOozGDZ"
      }
    },
    {
      "cell_type": "markdown",
      "source": [
        "To achieve the business objective, I would suggest the client the following:\n",
        "\n",
        "* Enhance User Experience: Focus on improving user experience by analyzing user reviews and ratings. Identify areas of improvement based on feedback to enhance app usability, features, and overall satisfaction.\n",
        "\n",
        "* Optimize App Performance: Regularly monitor and analyze app performance metrics such as app size, update frequency, and response time. Optimize these factors to ensure smooth performance and efficient resource utilization.\n",
        "\n",
        "* Targeted Marketing and Advertising: Utilize insights from the app category and user demographics to create targeted marketing and advertising campaigns. Tailor promotional activities to specific user segments to maximize reach and engagement.\n",
        "\n",
        "* Continuous Innovation and Updates: Keep the app up-to-date with the latest trends and technologies. Continuously introduce new features, functionalities, and content to retain existing users and attract new ones.\n",
        "\n",
        "* Monitor Competitor Landscape: Stay updated on the competition by monitoring similar apps in the market. Analyze their features, ratings, and user feedback to identify opportunities for differentiation and improvement.\n",
        "\n",
        "* Incorporate User Feedback: Actively listen to user feedback through app reviews, ratings, and user surveys. Incorporate valuable suggestions and address user concerns promptly to foster a positive user experience.\n",
        "\n",
        "* Build App Reputation: Strive to build a positive app reputation by maintaining a high rating, addressing user complaints, and providing exceptional customer support. A good reputation leads to increased user trust, which can result in higher user acquisition and retention rates.\n",
        "\n",
        "* Analyze Monetization Strategies: Evaluate the effectiveness of monetization strategies such as in-app purchases, subscriptions, or ads. Analyze revenue generation patterns and user behavior to optimize monetization efforts while ensuring a positive user experience.\n",
        "\n",
        "* Stay Compliant with Policies: Adhere to app store policies and guidelines to maintain a strong presence in the app market. Ensure compliance with privacy regulations, content guidelines, and data security measures.\n",
        "\n"
      ],
      "metadata": {
        "id": "pASKb0qOza21"
      }
    },
    {
      "cell_type": "markdown",
      "source": [
        "# **Conclusion**"
      ],
      "metadata": {
        "id": "gCX9965dhzqZ"
      }
    },
    {
      "cell_type": "markdown",
      "source": [
        "Write the conclusion here."
      ],
      "metadata": {
        "id": "Fjb1IsQkh3yE"
      }
    },
    {
      "cell_type": "markdown",
      "source": [
        "### ***Hurrah! You have successfully completed your EDA Capstone Project !!!***"
      ],
      "metadata": {
        "id": "gIfDvo9L0UH2"
      }
    }
  ]
}